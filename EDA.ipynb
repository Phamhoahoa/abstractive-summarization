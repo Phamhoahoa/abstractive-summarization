{
 "cells": [
  {
   "cell_type": "code",
   "execution_count": 3,
   "id": "c9ee4ffc",
   "metadata": {},
   "outputs": [],
   "source": [
    "import matplotlib.pyplot as plt\n",
    "import pandas as pd"
   ]
  },
  {
   "cell_type": "code",
   "execution_count": 5,
   "id": "46345f11",
   "metadata": {},
   "outputs": [
    {
     "name": "stdout",
     "output_type": "stream",
     "text": [
      "105418\n"
     ]
    }
   ],
   "source": [
    "df = pd.read_csv('/home/hoapham/Pthoa_TextSum/data/train_tokenized.csv')\n",
    "print(len(df))"
   ]
  },
  {
   "cell_type": "code",
   "execution_count": 7,
   "id": "91df8351",
   "metadata": {},
   "outputs": [
    {
     "data": {
      "text/html": [
       "<div>\n",
       "<style scoped>\n",
       "    .dataframe tbody tr th:only-of-type {\n",
       "        vertical-align: middle;\n",
       "    }\n",
       "\n",
       "    .dataframe tbody tr th {\n",
       "        vertical-align: top;\n",
       "    }\n",
       "\n",
       "    .dataframe thead th {\n",
       "        text-align: right;\n",
       "    }\n",
       "</style>\n",
       "<table border=\"1\" class=\"dataframe\">\n",
       "  <thead>\n",
       "    <tr style=\"text-align: right;\">\n",
       "      <th></th>\n",
       "      <th>file</th>\n",
       "      <th>original</th>\n",
       "      <th>summary</th>\n",
       "      <th>lenght</th>\n",
       "      <th>lenght_sum</th>\n",
       "    </tr>\n",
       "  </thead>\n",
       "  <tbody>\n",
       "    <tr>\n",
       "      <th>0</th>\n",
       "      <td>./data/train_tokenized/103183.txt.seg</td>\n",
       "      <td>Hiện_trường vụ tai_nạn . Chiều 14/8 , xe_tải m...</td>\n",
       "      <td>Khi ôtô tải lật nghiêng , toàn_bộ bia trong th...</td>\n",
       "      <td>107</td>\n",
       "      <td>21</td>\n",
       "    </tr>\n",
       "    <tr>\n",
       "      <th>1</th>\n",
       "      <td>./data/train_tokenized/051433.txt.seg</td>\n",
       "      <td>Tổng_thống Mỹ Donald_Trump ( trái ) và Tổng_th...</td>\n",
       "      <td>Giới_chức Iran cho_rằng Mỹ không đáng tin_cậy ...</td>\n",
       "      <td>320</td>\n",
       "      <td>21</td>\n",
       "    </tr>\n",
       "    <tr>\n",
       "      <th>2</th>\n",
       "      <td>./data/train_tokenized/080555.txt.seg</td>\n",
       "      <td>Gần 3.500 tân_binh Hà_Nội lên_đường nhập_ngũ s...</td>\n",
       "      <td>Trong dòng người ken đặc , có một người cha dõ...</td>\n",
       "      <td>995</td>\n",
       "      <td>38</td>\n",
       "    </tr>\n",
       "    <tr>\n",
       "      <th>3</th>\n",
       "      <td>./data/train_tokenized/013371.txt.seg</td>\n",
       "      <td>Khách_sạn Aarron_Hotel_Nha_Trang nằm tại địa_c...</td>\n",
       "      <td>Chiều 13-2 , trao_đổi với phóng_viên Tuổi_Trẻ ...</td>\n",
       "      <td>505</td>\n",
       "      <td>30</td>\n",
       "    </tr>\n",
       "    <tr>\n",
       "      <th>4</th>\n",
       "      <td>./data/train_tokenized/021350.txt.seg</td>\n",
       "      <td>Nghi_phạm được mô_tả là một người đàn_ông 45 t...</td>\n",
       "      <td>Ít_nhất bốn người thiệt_mạng và hai người bị_t...</td>\n",
       "      <td>131</td>\n",
       "      <td>27</td>\n",
       "    </tr>\n",
       "  </tbody>\n",
       "</table>\n",
       "</div>"
      ],
      "text/plain": [
       "                                    file  \\\n",
       "0  ./data/train_tokenized/103183.txt.seg   \n",
       "1  ./data/train_tokenized/051433.txt.seg   \n",
       "2  ./data/train_tokenized/080555.txt.seg   \n",
       "3  ./data/train_tokenized/013371.txt.seg   \n",
       "4  ./data/train_tokenized/021350.txt.seg   \n",
       "\n",
       "                                            original  \\\n",
       "0  Hiện_trường vụ tai_nạn . Chiều 14/8 , xe_tải m...   \n",
       "1  Tổng_thống Mỹ Donald_Trump ( trái ) và Tổng_th...   \n",
       "2  Gần 3.500 tân_binh Hà_Nội lên_đường nhập_ngũ s...   \n",
       "3  Khách_sạn Aarron_Hotel_Nha_Trang nằm tại địa_c...   \n",
       "4  Nghi_phạm được mô_tả là một người đàn_ông 45 t...   \n",
       "\n",
       "                                             summary  lenght  lenght_sum  \n",
       "0  Khi ôtô tải lật nghiêng , toàn_bộ bia trong th...     107          21  \n",
       "1  Giới_chức Iran cho_rằng Mỹ không đáng tin_cậy ...     320          21  \n",
       "2  Trong dòng người ken đặc , có một người cha dõ...     995          38  \n",
       "3  Chiều 13-2 , trao_đổi với phóng_viên Tuổi_Trẻ ...     505          30  \n",
       "4  Ít_nhất bốn người thiệt_mạng và hai người bị_t...     131          27  "
      ]
     },
     "execution_count": 7,
     "metadata": {},
     "output_type": "execute_result"
    }
   ],
   "source": [
    "def compute_len(text):\n",
    "    list_word = [x for x in str(text).split()]\n",
    "    return len(list_word)\n",
    "df['lenght'] = df['original'].apply(compute_len)\n",
    "df['lenght_sum'] = df['summary'].apply(compute_len)\n",
    "\n",
    "df.head(5)"
   ]
  },
  {
   "cell_type": "code",
   "execution_count": 18,
   "id": "14366d30",
   "metadata": {},
   "outputs": [
    {
     "data": {
      "image/png": "[encoded data removed]",
      "text/plain": [
       "<Figure size 640x480 with 1 Axes>"
      ]
     },
     "metadata": {
      "needs_background": "light"
     },
     "output_type": "display_data"
    }
   ],
   "source": [
    "from matplotlib.pyplot import figure\n",
    "figure(figsize=(8, 6), dpi=80)\n",
    "plt.hist(df['lenght'], bins = 25 ,alpha=0.5)\n",
    "plt.xlabel('variable X')\n",
    "plt.ylabel('count')\n",
    "\n",
    "plt.show()"
   ]
  },
  {
   "cell_type": "code",
   "execution_count": 8,
   "id": "e41ba836",
   "metadata": {},
   "outputs": [
    {
     "data": {
      "image/png": "[encoded data removed]",
      "text/plain": [
       "<Figure size 640x480 with 1 Axes>"
      ]
     },
     "metadata": {
      "needs_background": "light"
     },
     "output_type": "display_data"
    }
   ],
   "source": [
    "from matplotlib.pyplot import figure\n",
    "figure(figsize=(8, 6), dpi=80)\n",
    "plt.hist(df['lenght_sum'], bins = 25 ,alpha=0.5)\n",
    "plt.xlabel('variable X')\n",
    "plt.ylabel('count')\n",
    "\n",
    "plt.show()"
   ]
  },
  {
   "cell_type": "code",
   "execution_count": null,
   "id": "e616334c",
   "metadata": {},
   "outputs": [],
   "source": []
  }
 ],
 "metadata": {
  "kernelspec": {
   "display_name": "Python 3",
   "language": "python",
   "name": "python3"
  },
  "language_info": {
   "codemirror_mode": {
    "name": "ipython",
    "version": 3
   },
   "file_extension": ".py",
   "mimetype": "text/x-python",
   "name": "python",
   "nbconvert_exporter": "python",
   "pygments_lexer": "ipython3",
   "version": "3.6.9"
  }
 },
 "nbformat": 4,
 "nbformat_minor": 5
}
